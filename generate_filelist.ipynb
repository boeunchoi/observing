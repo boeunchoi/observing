{
 "cells": [
  {
   "cell_type": "code",
   "execution_count": 2,
   "id": "20f1201c",
   "metadata": {},
   "outputs": [],
   "source": [
    "import pandas as pd\n",
    "import numpy as np\n",
    "import matplotlib.pyplot as plt\n",
    "import os\n",
    "\n",
    "import glob"
   ]
  },
  {
   "cell_type": "code",
   "execution_count": 11,
   "id": "aecf0d98",
   "metadata": {},
   "outputs": [
    {
     "name": "stdout",
     "output_type": "stream",
     "text": [
      "['Case23.0003r90.ec.fits', 'BD5938.0006r90.ec.fits', 'Case23.0001r90.ec.fits', 'Flat.0032r90.ec.fits', 'HD236697.0017r90.ec.fits', 'HD1544.0027r90.ec.fits', 'HD236697.0020r90.ec.fits', 'ThAr.0030r90.ec.fits', 'FlatBlue.0035r90.ec.fits', 'Flat.0033r90.ec.fits', 'BD59274.0024r90.ec.fits', 'HD1544.0029r90.ec.fits', 'HD236697.0018r90.ec.fits', 'HD1544.0008r90.ec.fits', '4U195431.0013r90.ec.fits', 'HD1544.0010r90.ec.fits', 'BD59274.0026r90.ec.fits', '4U195431.0012r90.ec.fits', '4U195431.0014r90.ec.fits', 'FlatBlue.0034r90.ec.fits', 'HD1544.0011r90.ec.fits', 'BD59274.0025r90.ec.fits', '4U195431.0016r90.ec.fits', 'FlatBlue.0036r90.ec.fits', 'BD5938.0004r90.ec.fits', 'BD5938.0005r90.ec.fits', 'BD59274.0022r90.ec.fits', 'BD5938.0007r90.ec.fits', 'Flat.0031r90.ec.fits', 'HD236697.0021r90.ec.fits', 'HD1544.0028r90.ec.fits', 'BD59274.0023r90.ec.fits', 'HD1544.0009r90.ec.fits', 'Case23.0002r90.ec.fits', '4U195431.0015r90.ec.fits', 'HD236697.0019r90.ec.fits']\n"
     ]
    }
   ],
   "source": [
    "path = '/home/bechoi/bechoi/observation/APO/Q3UW03/UT220708/'\n",
    "os.chdir(path)\n",
    "\n",
    "obs_list = glob.glob('*r90.fits')\n",
    "ec_list = glob.glob('*.ec.fits')\n",
    "print(ec_list)"
   ]
  },
  {
   "cell_type": "code",
   "execution_count": 17,
   "id": "6fc4719e",
   "metadata": {},
   "outputs": [],
   "source": [
    "# The list of echelle spectra\n",
    "ec_file = open('spec_ec.all', 'w')\n",
    "for ec in ec_list:\n",
    "    ec_file.write(\"%s\\n\" % ec)\n",
    "ec_file.close()"
   ]
  },
  {
   "cell_type": "code",
   "execution_count": 23,
   "id": "763a5f81",
   "metadata": {},
   "outputs": [],
   "source": [
    "# The reference table for dispersion solution\n",
    "reftab_file = open('reftable.all', 'w')\n",
    "ThAr = 'ThAr.0030r90.ec'\n",
    "wo = '.fits'\n",
    "\n",
    "for ec in ec_list:\n",
    "    ec = ec.replace(wo, \"\")\n",
    "    reftab_file.write(\"{}\\t{}\\n\".format(ec, ThAr))\n",
    "reftab_file.close()"
   ]
  },
  {
   "cell_type": "code",
   "execution_count": 27,
   "id": "45ae0499",
   "metadata": {},
   "outputs": [],
   "source": [
    "# The flat list\n",
    "flat_ec_list = glob.glob('Flat.*.ec.*')\n",
    "flat_ec_file = open('flat_ec.lst', 'w')\n",
    "for flat in flat_ec_list:\n",
    "    flat_ec_file.write(\"{}\\n\".format(flat))\n",
    "flat_ec_file.close()"
   ]
  },
  {
   "cell_type": "code",
   "execution_count": null,
   "id": "6d86dac7",
   "metadata": {},
   "outputs": [],
   "source": []
  }
 ],
 "metadata": {
  "kernelspec": {
   "display_name": "Python 3 (ipykernel)",
   "language": "python",
   "name": "python3"
  },
  "language_info": {
   "codemirror_mode": {
    "name": "ipython",
    "version": 3
   },
   "file_extension": ".py",
   "mimetype": "text/x-python",
   "name": "python",
   "nbconvert_exporter": "python",
   "pygments_lexer": "ipython3",
   "version": "3.9.12"
  }
 },
 "nbformat": 4,
 "nbformat_minor": 5
}
